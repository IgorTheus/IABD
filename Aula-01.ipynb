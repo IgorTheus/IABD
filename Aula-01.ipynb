{
 "cells": [
  {
   "cell_type": "code",
   "execution_count": 2,
   "id": "3d2d4e3e",
   "metadata": {},
   "outputs": [
    {
     "name": "stdout",
     "output_type": "stream",
     "text": [
      "Inteligencia Artificial e Big Data\n"
     ]
    }
   ],
   "source": [
    "print (\"Inteligencia Artificial e Big Data\")"
   ]
  },
  {
   "cell_type": "code",
   "execution_count": null,
   "id": "9509dcf7",
   "metadata": {},
   "outputs": [],
   "source": [
    "!pip install pandas"
   ]
  },
  {
   "cell_type": "code",
   "execution_count": 3,
   "id": "ceb657ce",
   "metadata": {},
   "outputs": [],
   "source": [
    "import pandas as pd"
   ]
  },
  {
   "cell_type": "code",
   "execution_count": 5,
   "id": "34ab8676",
   "metadata": {},
   "outputs": [
    {
     "name": "stdout",
     "output_type": "stream",
     "text": [
      "           A  B\n",
      "1° linha   0 -3\n",
      "2° linha  10 -2\n",
      "3° linha  20 -1\n"
     ]
    }
   ],
   "source": [
    "dic = {\n",
    "    \"A\":[1, 2, 3],\n",
    "    \"B\":[-3, -2, -1],\n",
    "    \"A\":[0, 10, 20]\n",
    "}\n",
    "\n",
    "label = ['1° linha', '2° linha', '3° linha']\n",
    "\n",
    "DataFrame_01 = pd.DataFrame(dic, index = label)\n",
    "print(DataFrame_01)"
   ]
  },
  {
   "cell_type": "code",
   "execution_count": null,
   "id": "c986f982",
   "metadata": {},
   "outputs": [],
   "source": []
  }
 ],
 "metadata": {
  "kernelspec": {
   "display_name": "Python 3",
   "language": "python",
   "name": "python3"
  },
  "language_info": {
   "codemirror_mode": {
    "name": "ipython",
    "version": 3
   },
   "file_extension": ".py",
   "mimetype": "text/x-python",
   "name": "python",
   "nbconvert_exporter": "python",
   "pygments_lexer": "ipython3",
   "version": "3.13.1"
  }
 },
 "nbformat": 4,
 "nbformat_minor": 5
}
